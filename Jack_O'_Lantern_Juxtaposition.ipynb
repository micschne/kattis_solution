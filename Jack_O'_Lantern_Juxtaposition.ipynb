{
  "nbformat": 4,
  "nbformat_minor": 0,
  "metadata": {
    "colab": {
      "name": "Jack-O'-Lantern Juxtaposition.ipynb",
      "provenance": [],
      "authorship_tag": "ABX9TyPPMknhBphHCHNV+UNTtDTo",
      "include_colab_link": true
    },
    "kernelspec": {
      "name": "python3",
      "display_name": "Python 3"
    },
    "language_info": {
      "name": "python"
    }
  },
  "cells": [
    {
      "cell_type": "markdown",
      "metadata": {
        "id": "view-in-github",
        "colab_type": "text"
      },
      "source": [
        "<a href=\"https://colab.research.google.com/github/micschne/kattis_solution/blob/micschne-kattis/Jack_O'_Lantern_Juxtaposition.ipynb\" target=\"_parent\"><img src=\"https://colab.research.google.com/assets/colab-badge.svg\" alt=\"Open In Colab\"/></a>"
      ]
    },
    {
      "cell_type": "code",
      "execution_count": null,
      "metadata": {
        "id": "ikqxu2i31Jg8"
      },
      "outputs": [],
      "source": [
        "N,T,M = [int(x) for x in input().split()]\n",
        "\n",
        "if N < 1 or T < 1 or M < 1:\n",
        "  print('Please choose a number between 1 and 500')\n",
        "\n",
        "elif N > 500 or T > 500 or M > 500:\n",
        "  print('Please choose a number between 1 and 500')\n",
        "\n",
        "else:\n",
        "  print(N * T * M)"
      ]
    }
  ]
}